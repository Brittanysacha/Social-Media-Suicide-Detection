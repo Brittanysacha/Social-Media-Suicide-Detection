{
 "cells": [
  {
   "cell_type": "code",
   "execution_count": 15,
   "metadata": {},
   "outputs": [],
   "source": [
    "import pandas as pd\n",
    "import ipywidgets as widgets\n",
    "import csv"
   ]
  },
  {
   "attachments": {},
   "cell_type": "markdown",
   "metadata": {},
   "source": [
    "### SuicideWatch Seed Annotation - 500 posts"
   ]
  },
  {
   "attachments": {},
   "cell_type": "markdown",
   "metadata": {},
   "source": [
    "###### https://coderzcolumn.com/tutorials/python/interactive-widgets-in-jupyter-notebook-using-ipywidgets\n",
    "###### https://ipywidgets.readthedocs.io/en/stable/examples/Widget%20List.html"
   ]
  },
  {
   "cell_type": "code",
   "execution_count": 16,
   "metadata": {},
   "outputs": [
    {
     "data": {
      "application/vnd.jupyter.widget-view+json": {
       "model_id": "ccd84bd52f6a4a05841187f481f48b2a",
       "version_major": 2,
       "version_minor": 0
      },
      "text/plain": [
       "Dropdown(description='Category:', options=('Crisis', 'Struggling', 'Recovery/Management', 'Support/Advice'), v…"
      ]
     },
     "metadata": {},
     "output_type": "display_data"
    },
    {
     "data": {
      "application/vnd.jupyter.widget-view+json": {
       "model_id": "d36e83a2bb634a93a2c993611587dedd",
       "version_major": 2,
       "version_minor": 0
      },
      "text/plain": [
       "Textarea(value='Text to categorise', description='Text:', rows=30)"
      ]
     },
     "metadata": {},
     "output_type": "display_data"
    },
    {
     "data": {
      "application/vnd.jupyter.widget-view+json": {
       "model_id": "3eeb1347858a4b3e924b1bc2e3a073e7",
       "version_major": 2,
       "version_minor": 0
      },
      "text/plain": [
       "Button(description='Categorise', style=ButtonStyle())"
      ]
     },
     "metadata": {},
     "output_type": "display_data"
    },
    {
     "data": {
      "application/vnd.jupyter.widget-view+json": {
       "model_id": "5bd4999d87784cb4b15d26ddf45f77dc",
       "version_major": 2,
       "version_minor": 0
      },
      "text/plain": [
       "Output()"
      ]
     },
     "metadata": {},
     "output_type": "display_data"
    }
   ],
   "source": [
    "# Load your data\n",
    "data = pd.read_csv('/Users/brittanyharding/LHL-Projects/SM-suicide_detection/suicidewatch.csv')\n",
    "data_iterator = iter(data.iterrows())\n",
    "\n",
    "counter = 0\n",
    "\n",
    "def load_next_text():\n",
    "    global counter\n",
    "    try:\n",
    "        if counter < 500:\n",
    "            _, row = next(data_iterator)\n",
    "            text.value = row['selftext']  # updated to your column name\n",
    "            counter += 1\n",
    "        else:\n",
    "            text.value = 'No more data'\n",
    "    except StopIteration:\n",
    "        text.value = 'No more data'\n",
    "\n",
    "def on_button_clicked(b):\n",
    "    with output:\n",
    "        print(f'Text: {text.value} was categorised as: {dropdown.value}')\n",
    "        with open('annotated_suicidewatch_data.csv', 'a') as f: \n",
    "            writer = csv.writer(f)\n",
    "            writer.writerow([text.value, dropdown.value])\n",
    "        load_next_text()\n",
    "\n",
    "dropdown = widgets.Dropdown(\n",
    "    options=['Crisis', 'Struggling', 'Recovery/Management', 'Support/Advice'],\n",
    "    value=None,\n",
    "    description='Category:',\n",
    ")\n",
    "\n",
    "text = widgets.Textarea(\n",
    "    value='Text to categorise',\n",
    "    description='Text:',\n",
    "    rows=30,  # text height - edited for easier reading\n",
    "    cols=200,  # text width - edited for easier reading\n",
    ")\n",
    "\n",
    "button = widgets.Button(description=\"Categorise\")\n",
    "output = widgets.Output()\n",
    "\n",
    "display(dropdown, text, button, output)\n",
    "\n",
    "button.on_click(on_button_clicked)\n",
    "\n",
    "# Load the first row of data\n",
    "load_next_text()\n"
   ]
  },
  {
   "attachments": {},
   "cell_type": "markdown",
   "metadata": {},
   "source": [
    "### selfharm Seed Annotation - 500 posts"
   ]
  },
  {
   "cell_type": "code",
   "execution_count": null,
   "metadata": {},
   "outputs": [],
   "source": [
    "# Load your data\n",
    "data = pd.read_csv('/Users/brittanyharding/LHL-Projects/SM-suicide_detection/selfharm.csv')\n",
    "data_iterator = iter(data.iterrows())\n",
    "\n",
    "counter = 0\n",
    "\n",
    "def load_next_text():\n",
    "    global counter\n",
    "    try:\n",
    "        if counter < 500:\n",
    "            _, row = next(data_iterator)\n",
    "            text.value = row['selftext']  # updated to your column name\n",
    "            counter += 1\n",
    "        else:\n",
    "            text.value = 'No more data'\n",
    "    except StopIteration:\n",
    "        text.value = 'No more data'\n",
    "\n",
    "def on_button_clicked(b):\n",
    "    with output:\n",
    "        print(f'Text: {text.value} was categorised as: {dropdown.value}')\n",
    "        with open('annotated_selfharm_data.csv', 'a') as f: \n",
    "            writer = csv.writer(f)\n",
    "            writer.writerow([text.value, dropdown.value])\n",
    "        load_next_text()\n",
    "\n",
    "dropdown = widgets.Dropdown(\n",
    "    options=['Crisis', 'Struggling', 'Recovery/Management', 'Support/Advice'],\n",
    "    value=None,\n",
    "    description='Category:',\n",
    ")\n",
    "\n",
    "text = widgets.Textarea(\n",
    "    value='Text to categorise',\n",
    "    description='Text:',\n",
    "    rows=30,  # text height - edited for easier reading\n",
    "    cols=200,  # text width - edited for easier reading\n",
    ")\n",
    "\n",
    "button = widgets.Button(description=\"Categorise\")\n",
    "output = widgets.Output()\n",
    "\n",
    "display(dropdown, text, button, output)\n",
    "\n",
    "button.on_click(on_button_clicked)\n",
    "\n",
    "# Load the first row of data\n",
    "load_next_text()\n"
   ]
  },
  {
   "attachments": {},
   "cell_type": "markdown",
   "metadata": {},
   "source": [
    "### Anxiety Seed Annotation - 500 posts"
   ]
  },
  {
   "cell_type": "code",
   "execution_count": null,
   "metadata": {},
   "outputs": [],
   "source": [
    "# Load your data\n",
    "data = pd.read_csv('/Users/brittanyharding/LHL-Projects/SM-suicide_detection/anxiety.csv')\n",
    "data_iterator = iter(data.iterrows())\n",
    "\n",
    "counter = 0\n",
    "\n",
    "def load_next_text():\n",
    "    global counter\n",
    "    try:\n",
    "        if counter < 500:\n",
    "            _, row = next(data_iterator)\n",
    "            text.value = row['selftext']  # updated to your column name\n",
    "            counter += 1\n",
    "        else:\n",
    "            text.value = 'No more data'\n",
    "    except StopIteration:\n",
    "        text.value = 'No more data'\n",
    "\n",
    "def on_button_clicked(b):\n",
    "    with output:\n",
    "        print(f'Text: {text.value} was categorised as: {dropdown.value}')\n",
    "        with open('annotated_anxiety_data.csv', 'a') as f: \n",
    "            writer = csv.writer(f)\n",
    "            writer.writerow([text.value, dropdown.value])\n",
    "        load_next_text()\n",
    "\n",
    "dropdown = widgets.Dropdown(\n",
    "    options=['Crisis', 'Struggling', 'Recovery/Management', 'Support/Advice'],\n",
    "    value=None,\n",
    "    description='Category:',\n",
    ")\n",
    "\n",
    "text = widgets.Textarea(\n",
    "    value='Text to categorise',\n",
    "    description='Text:',\n",
    "    rows=30,  # text height - edited for easier reading\n",
    "    cols=200,  # text width - edited for easier reading\n",
    ")\n",
    "\n",
    "button = widgets.Button(description=\"Categorise\")\n",
    "output = widgets.Output()\n",
    "\n",
    "display(dropdown, text, button, output)\n",
    "\n",
    "button.on_click(on_button_clicked)\n",
    "\n",
    "# Load the first row of data\n",
    "load_next_text()\n"
   ]
  },
  {
   "attachments": {},
   "cell_type": "markdown",
   "metadata": {},
   "source": []
  },
  {
   "cell_type": "code",
   "execution_count": null,
   "metadata": {},
   "outputs": [],
   "source": [
    "# Load your data\n",
    "data = pd.read_csv('/Users/brittanyharding/LHL-Projects/SM-suicide_detection/mentalhealth.csv')\n",
    "data_iterator = iter(data.iterrows())\n",
    "\n",
    "counter = 0\n",
    "\n",
    "def load_next_text():\n",
    "    global counter\n",
    "    try:\n",
    "        if counter < 500:\n",
    "            _, row = next(data_iterator)\n",
    "            text.value = row['selftext']  # updated to your column name\n",
    "            counter += 1\n",
    "        else:\n",
    "            text.value = 'No more data'\n",
    "    except StopIteration:\n",
    "        text.value = 'No more data'\n",
    "\n",
    "def on_button_clicked(b):\n",
    "    with output:\n",
    "        print(f'Text: {text.value} was categorised as: {dropdown.value}')\n",
    "        with open('annotated_mentalhealth_data.csv', 'a') as f: \n",
    "            writer = csv.writer(f)\n",
    "            writer.writerow([text.value, dropdown.value])\n",
    "        load_next_text()\n",
    "\n",
    "dropdown = widgets.Dropdown(\n",
    "    options=['Crisis', 'Struggling', 'Recovery/Management', 'Support/Advice'],\n",
    "    value=None,\n",
    "    description='Category:',\n",
    ")\n",
    "\n",
    "text = widgets.Textarea(\n",
    "    value='Text to categorise',\n",
    "    description='Text:',\n",
    "    rows=30,  # text height - edited for easier reading\n",
    "    cols=200,  # text width - edited for easier reading\n",
    ")\n",
    "\n",
    "button = widgets.Button(description=\"Categorise\")\n",
    "output = widgets.Output()\n",
    "\n",
    "display(dropdown, text, button, output)\n",
    "\n",
    "button.on_click(on_button_clicked)\n",
    "\n",
    "# Load the first row of data\n",
    "load_next_text()\n"
   ]
  },
  {
   "attachments": {},
   "cell_type": "markdown",
   "metadata": {},
   "source": [
    "Insights from catergorising:\n",
    "- A majority of posts in the SuicideWatch subreddit related to immediate crisis or struggle - with few recovery/management stories and few advice/support posts from friends and families of someone in crisis\n",
    "- The majority of the support and advice questions for the selfharm subreddit relate to covering up self-harm scars. \n",
    "- There were also a significant number of questions around best self-harm or more effective self-harm methods, but those were sorted under struggling/crisis depending on the intention of harm/ severity (i.e. to end one's life, or to feel some pain)\n",
    "- Self-harm is often described as an addiciton that posters cannot get away from.\n",
    "- Posts within the anxiety reddit, usually end with a poster asking particular support/advice questions at the end of detailing why thy are struggling. Since the posts contain substantial elements of emotional distress, it is more appropriate to categorise it under struggling rather than advice/support.\n",
    "- The anxiety subreddit has a significant amount of more struggling and advice/support posts than other types.\n",
    "- In the anxiety subreddit, there appear to be \"duplicate postings\" by the same users in a short span of time (i.e. 2-3 posts over a span of 5-10 minutes).\n",
    "- A lot of the mental health posts could be catergorised into struggling or advice/support\n",
    "- A lot of mental health posts wanted advice on treatments or medications.\n",
    "- There were a lot of posts where someone who was struggling, also asked for help. Since the posts contain substantial elements of emotional distress, it is more appropriate to categorise it under struggling rather than advice/support."
   ]
  }
 ],
 "metadata": {
  "kernelspec": {
   "display_name": "base",
   "language": "python",
   "name": "python3"
  },
  "language_info": {
   "codemirror_mode": {
    "name": "ipython",
    "version": 3
   },
   "file_extension": ".py",
   "mimetype": "text/x-python",
   "name": "python",
   "nbconvert_exporter": "python",
   "pygments_lexer": "ipython3",
   "version": "3.10.9"
  },
  "orig_nbformat": 4
 },
 "nbformat": 4,
 "nbformat_minor": 2
}
