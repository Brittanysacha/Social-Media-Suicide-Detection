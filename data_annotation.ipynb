{
 "cells": [
  {
   "cell_type": "code",
   "execution_count": 1,
   "metadata": {},
   "outputs": [],
   "source": [
    "import pandas as pd\n",
    "import ipywidgets as widgets\n",
    "import csv"
   ]
  },
  {
   "attachments": {},
   "cell_type": "markdown",
   "metadata": {},
   "source": [
    "### Addiction Seed Annotation"
   ]
  },
  {
   "attachments": {},
   "cell_type": "markdown",
   "metadata": {},
   "source": [
    "###### https://coderzcolumn.com/tutorials/python/interactive-widgets-in-jupyter-notebook-using-ipywidgets\n",
    "###### https://ipywidgets.readthedocs.io/en/stable/examples/Widget%20List.html"
   ]
  },
  {
   "cell_type": "code",
   "execution_count": 13,
   "metadata": {},
   "outputs": [
    {
     "data": {
      "application/vnd.jupyter.widget-view+json": {
       "model_id": "1e64ead3bd8641eeb6f8610906c10793",
       "version_major": 2,
       "version_minor": 0
      },
      "text/plain": [
       "Dropdown(description='Category:', options=('Crisis', 'Struggling', 'Recovery/Management', 'Support/Advice'), v…"
      ]
     },
     "metadata": {},
     "output_type": "display_data"
    },
    {
     "data": {
      "application/vnd.jupyter.widget-view+json": {
       "model_id": "d686902b00bc4612b540dd5be1c12b97",
       "version_major": 2,
       "version_minor": 0
      },
      "text/plain": [
       "Textarea(value='Text to categorize', description='Text:', rows=10)"
      ]
     },
     "metadata": {},
     "output_type": "display_data"
    },
    {
     "data": {
      "application/vnd.jupyter.widget-view+json": {
       "model_id": "358714db3c014d3bad0f0858fa1a791a",
       "version_major": 2,
       "version_minor": 0
      },
      "text/plain": [
       "Button(description='Categorize', style=ButtonStyle())"
      ]
     },
     "metadata": {},
     "output_type": "display_data"
    },
    {
     "data": {
      "application/vnd.jupyter.widget-view+json": {
       "model_id": "2579c54188fb426aa0f918b954966097",
       "version_major": 2,
       "version_minor": 0
      },
      "text/plain": [
       "Output()"
      ]
     },
     "metadata": {},
     "output_type": "display_data"
    }
   ],
   "source": [
    "# Load your data\n",
    "data = pd.read_csv('/Users/brittanyharding/LHL-Projects/SM-suicide_detection/SuicideWatch.csv')\n",
    "data_iterator = iter(data.iterrows())\n",
    "\n",
    "counter = 0\n",
    "\n",
    "def load_next_text():\n",
    "    global counter\n",
    "    try:\n",
    "        if counter < 1000:\n",
    "            _, row = next(data_iterator)\n",
    "            text.value = row['selftext']  # updated to your column name\n",
    "            counter += 1\n",
    "        else:\n",
    "            text.value = 'No more data'\n",
    "    except StopIteration:\n",
    "        text.value = 'No more data'\n",
    "\n",
    "def on_button_clicked(b):\n",
    "    with output:\n",
    "        print(f'Text: {text.value} was categorized as: {dropdown.value}')\n",
    "        with open('annotated_suicidewatch_data.csv', 'a') as f:  # updated to your preferred file name\n",
    "            writer = csv.writer(f)\n",
    "            writer.writerow([text.value, dropdown.value])\n",
    "        load_next_text()\n",
    "\n",
    "dropdown = widgets.Dropdown(\n",
    "    options=['Crisis', 'Struggling', 'Recovery/Management', 'Support/Advice'],\n",
    "    value=None,\n",
    "    description='Category:',\n",
    ")\n",
    "\n",
    "text = widgets.Textarea(\n",
    "    value='Text to categorize',\n",
    "    description='Text:',\n",
    "    rows=10,  # text height - edited for easier reading\n",
    "    cols=100,  # text width - edited for easier reading\n",
    ")\n",
    "\n",
    "button = widgets.Button(description=\"Categorize\")\n",
    "output = widgets.Output()\n",
    "\n",
    "display(dropdown, text, button, output)\n",
    "\n",
    "button.on_click(on_button_clicked)\n",
    "\n",
    "# Load the first row of data\n",
    "load_next_text()\n"
   ]
  },
  {
   "cell_type": "code",
   "execution_count": null,
   "metadata": {},
   "outputs": [],
   "source": []
  },
  {
   "attachments": {},
   "cell_type": "markdown",
   "metadata": {},
   "source": [
    "### Test with 5 cases"
   ]
  },
  {
   "cell_type": "code",
   "execution_count": 7,
   "metadata": {},
   "outputs": [
    {
     "data": {
      "application/vnd.jupyter.widget-view+json": {
       "model_id": "f8279f9241c64a2199f137f1295a6c86",
       "version_major": 2,
       "version_minor": 0
      },
      "text/plain": [
       "Dropdown(description='Category:', options=('Crisis', 'Struggling', 'Recovery/Management', 'Support/Advice'), v…"
      ]
     },
     "metadata": {},
     "output_type": "display_data"
    },
    {
     "data": {
      "application/vnd.jupyter.widget-view+json": {
       "model_id": "18c58f2b2ada4875a991e79132ab5314",
       "version_major": 2,
       "version_minor": 0
      },
      "text/plain": [
       "Textarea(value='Text to categorize', description='Text:', rows=10)"
      ]
     },
     "metadata": {},
     "output_type": "display_data"
    },
    {
     "data": {
      "application/vnd.jupyter.widget-view+json": {
       "model_id": "5d369014fb4a43b99dce76ba36f165ab",
       "version_major": 2,
       "version_minor": 0
      },
      "text/plain": [
       "Button(description='Categorize', style=ButtonStyle())"
      ]
     },
     "metadata": {},
     "output_type": "display_data"
    },
    {
     "data": {
      "application/vnd.jupyter.widget-view+json": {
       "model_id": "8c7e5794b02f4e59bc6dd3f502ba841c",
       "version_major": 2,
       "version_minor": 0
      },
      "text/plain": [
       "Output()"
      ]
     },
     "metadata": {},
     "output_type": "display_data"
    }
   ],
   "source": [
    "# Load your data\n",
    "data = pd.read_csv('/Users/brittanyharding/LHL-Projects/SM-suicide_detection/SuicideWatch.csv')\n",
    "data_iterator = iter(data.iterrows())\n",
    "\n",
    "counter = 0\n",
    "\n",
    "def load_next_text():\n",
    "    global counter\n",
    "    try:\n",
    "        if counter < 5:\n",
    "            _, row = next(data_iterator)\n",
    "            text.value = row['selftext']  # updated to your column name\n",
    "            counter += 1\n",
    "        else:\n",
    "            text.value = 'No more data'\n",
    "    except StopIteration:\n",
    "        text.value = 'No more data'\n",
    "\n",
    "def on_button_clicked(b):\n",
    "    with output:\n",
    "        print(f'Text: {text.value} was categorized as: {dropdown.value}')\n",
    "        with open('test_annotated_suicidewatch_data.csv', 'a') as f:  # updated to your preferred file name\n",
    "            writer = csv.writer(f)\n",
    "            writer.writerow([text.value, dropdown.value])\n",
    "        load_next_text()\n",
    "\n",
    "dropdown = widgets.Dropdown(\n",
    "    options=['Crisis', 'Struggling', 'Recovery/Management', 'Support/Advice'],\n",
    "    value=None,\n",
    "    description='Category:',\n",
    ")\n",
    "\n",
    "text = widgets.Textarea(\n",
    "    value='Text to categorize',\n",
    "    description='Text:',\n",
    "    rows=10,  # text height - edited for easier reading\n",
    "    cols=100,  # text width - edited for easier reading\n",
    ")\n",
    "\n",
    "button = widgets.Button(description=\"Categorize\")\n",
    "output = widgets.Output()\n",
    "\n",
    "display(dropdown, text, button, output)\n",
    "\n",
    "button.on_click(on_button_clicked)\n",
    "\n",
    "# Load the first row of data\n",
    "load_next_text()\n"
   ]
  },
  {
   "attachments": {},
   "cell_type": "markdown",
   "metadata": {},
   "source": [
    "### Test output"
   ]
  },
  {
   "cell_type": "code",
   "execution_count": 10,
   "metadata": {},
   "outputs": [],
   "source": [
    "# list of column names\n",
    "column_names = ['selftext', 'Category']\n",
    "\n",
    "# read the CSV data\n",
    "test = pd.read_csv(\"/Users/brittanyharding/LHL-Projects/SM-suicide_detection/test_annotated_suicidewatch_data.csv\", names=column_names, header=None)"
   ]
  },
  {
   "cell_type": "code",
   "execution_count": 11,
   "metadata": {},
   "outputs": [
    {
     "data": {
      "text/html": [
       "<div>\n",
       "<style scoped>\n",
       "    .dataframe tbody tr th:only-of-type {\n",
       "        vertical-align: middle;\n",
       "    }\n",
       "\n",
       "    .dataframe tbody tr th {\n",
       "        vertical-align: top;\n",
       "    }\n",
       "\n",
       "    .dataframe thead th {\n",
       "        text-align: right;\n",
       "    }\n",
       "</style>\n",
       "<table border=\"1\" class=\"dataframe\">\n",
       "  <thead>\n",
       "    <tr style=\"text-align: right;\">\n",
       "      <th></th>\n",
       "      <th>selftext</th>\n",
       "      <th>Category</th>\n",
       "    </tr>\n",
       "  </thead>\n",
       "  <tbody>\n",
       "    <tr>\n",
       "      <th>0</th>\n",
       "      <td>I saw it on twitter. Multiple accounts. I cybe...</td>\n",
       "      <td>Struggling</td>\n",
       "    </tr>\n",
       "    <tr>\n",
       "      <th>1</th>\n",
       "      <td>... and was asked to please 'watch my language...</td>\n",
       "      <td>Struggling</td>\n",
       "    </tr>\n",
       "    <tr>\n",
       "      <th>2</th>\n",
       "      <td>In 2015 I lost my mom in a heartbreaking battl...</td>\n",
       "      <td>Crisis</td>\n",
       "    </tr>\n",
       "    <tr>\n",
       "      <th>3</th>\n",
       "      <td>Well last night I got close to killing myself ...</td>\n",
       "      <td>Struggling</td>\n",
       "    </tr>\n",
       "    <tr>\n",
       "      <th>4</th>\n",
       "      <td>been self harming since 12, i’m 22. \\n\\ni’m 3 ...</td>\n",
       "      <td>Recovery/Management</td>\n",
       "    </tr>\n",
       "  </tbody>\n",
       "</table>\n",
       "</div>"
      ],
      "text/plain": [
       "                                            selftext             Category\n",
       "0  I saw it on twitter. Multiple accounts. I cybe...           Struggling\n",
       "1  ... and was asked to please 'watch my language...           Struggling\n",
       "2  In 2015 I lost my mom in a heartbreaking battl...               Crisis\n",
       "3  Well last night I got close to killing myself ...           Struggling\n",
       "4  been self harming since 12, i’m 22. \\n\\ni’m 3 ...  Recovery/Management"
      ]
     },
     "execution_count": 11,
     "metadata": {},
     "output_type": "execute_result"
    }
   ],
   "source": [
    "test.head()"
   ]
  },
  {
   "cell_type": "code",
   "execution_count": null,
   "metadata": {},
   "outputs": [],
   "source": []
  }
 ],
 "metadata": {
  "kernelspec": {
   "display_name": "base",
   "language": "python",
   "name": "python3"
  },
  "language_info": {
   "codemirror_mode": {
    "name": "ipython",
    "version": 3
   },
   "file_extension": ".py",
   "mimetype": "text/x-python",
   "name": "python",
   "nbconvert_exporter": "python",
   "pygments_lexer": "ipython3",
   "version": "3.10.9"
  },
  "orig_nbformat": 4
 },
 "nbformat": 4,
 "nbformat_minor": 2
}
