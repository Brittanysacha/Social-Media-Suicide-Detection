{
 "cells": [
  {
   "cell_type": "code",
   "execution_count": 1,
   "metadata": {},
   "outputs": [],
   "source": [
    "import pandas as pd"
   ]
  },
  {
   "attachments": {},
   "cell_type": "markdown",
   "metadata": {},
   "source": [
    "### Merge Annotated DFs together"
   ]
  },
  {
   "cell_type": "code",
   "execution_count": 2,
   "metadata": {},
   "outputs": [],
   "source": [
    "anxiety = pd.read_csv(\"annotated_train_df/annotated_anxiety_data.csv\")\n",
    "mentalhealth = pd.read_csv(\"annotated_train_df/annotated_mentalhealth_data.csv\")\n",
    "selfharm = pd.read_csv(\"annotated_train_df/annotated_selfharm_data.csv\")\n",
    "suicidewatch = pd.read_csv(\"annotated_train_df/annotated_suicidewatch_data.csv\")"
   ]
  },
  {
   "cell_type": "code",
   "execution_count": 3,
   "metadata": {},
   "outputs": [],
   "source": [
    "# Merge the DataFrames\n",
    "annotated_post_df = pd.concat([anxiety, mentalhealth, selfharm, suicidewatch], ignore_index=True)\n",
    "\n",
    "# Save the merged DataFrame to a new CSV file\n",
    "annotated_post_df.to_csv(\"annotated_train_df/annotated_post_df_5cat.csv\", index=False)"
   ]
  },
  {
   "attachments": {},
   "cell_type": "markdown",
   "metadata": {},
   "source": [
    "### Merge Non-Annotated DFs Together"
   ]
  },
  {
   "cell_type": "code",
   "execution_count": 32,
   "metadata": {},
   "outputs": [],
   "source": [
    "na_anxiety = pd.read_csv(\"nonannotated_test_df/non-annotated_anxiety_testdata.csv\")\n",
    "na_mentalhealth = pd.read_csv(\"nonannotated_test_df/non-annotated_mentalhealth_testdata.csv\")\n",
    "na_selfharm = pd.read_csv(\"nonannotated_test_df/non-annotated_selfharm_testdata.csv\")\n",
    "na_suicidewatch = pd.read_csv(\"nonannotated_test_df/non-annotated_suicidewatch_testdata.csv\")"
   ]
  },
  {
   "cell_type": "code",
   "execution_count": 33,
   "metadata": {},
   "outputs": [],
   "source": [
    "# Merge the DataFrames\n",
    "nonannotated_post_df = pd.concat([na_anxiety, na_mentalhealth, na_selfharm, na_suicidewatch], ignore_index=True)\n",
    "\n",
    "# Save the merged DataFrame to a new CSV file\n",
    "nonannotated_post_df.to_csv(\"annotated_train_df/nonannotated_post_df.csv\", index=False)"
   ]
  }
 ],
 "metadata": {
  "kernelspec": {
   "display_name": "base",
   "language": "python",
   "name": "python3"
  },
  "language_info": {
   "codemirror_mode": {
    "name": "ipython",
    "version": 3
   },
   "file_extension": ".py",
   "mimetype": "text/x-python",
   "name": "python",
   "nbconvert_exporter": "python",
   "pygments_lexer": "ipython3",
   "version": "3.10.9"
  },
  "orig_nbformat": 4
 },
 "nbformat": 4,
 "nbformat_minor": 2
}
