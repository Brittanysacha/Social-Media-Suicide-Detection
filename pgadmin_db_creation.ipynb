{
 "cells": [
  {
   "cell_type": "code",
   "execution_count": 3,
   "metadata": {},
   "outputs": [],
   "source": [
    "import os\n",
    "import csv\n",
    "import psycopg2\n",
    "\n",
    "# Database connection details\n",
    "dbname = 'mhdatabase'\n",
    "user = 'postgres'\n",
    "password = 'removed password!'\n",
    "host = 'localhost'\n",
    "port = '5432'\n",
    "\n",
    "# Path to the folder containing the CSV files\n",
    "csv_folder_path = '/SM-suicide_detection'\n",
    "\n",
    "# List of CSV files\n",
    "csv_files = [\n",
    "    'addiction.csv',\n",
    "    'adhd.csv',\n",
    "    'anxiety.csv',\n",
    "    'bipolar.csv',\n",
    "    'bpd.csv',\n",
    "    'depression.csv',\n",
    "    'mentalhealth.csv',\n",
    "    'ocd.csv',\n",
    "    'ptsd.csv',\n",
    "    'schizophrenia.csv',\n",
    "    'selfharm.csv',\n",
    "    'SuicideWatch.csv'\n",
    "]\n",
    "\n",
    "# Establish a connection to the PostgreSQL database\n",
    "conn = psycopg2.connect(dbname=dbname, user=user, password=password, host=host, port=port)\n",
    "cursor = conn.cursor()\n",
    "\n",
    "# Loop through each CSV file\n",
    "for csv_file in csv_files:\n",
    "    table_name = csv_file[:-4]  # Remove the '.csv' extension to use as the table name\n",
    "    file_path = os.path.join(csv_folder_path, csv_file)\n",
    "    \n",
    "    # Create the table with the required columns\n",
    "    create_table_query = f\"CREATE TABLE IF NOT EXISTS {table_name} (post_date DATE, kind VARCHAR, subreddit VARCHAR, title VARCHAR, selftext VARCHAR);\"\n",
    "    cursor.execute(create_table_query)\n",
    "    conn.commit()\n",
    "    \n",
    "    # Import data from the CSV file into the table\n",
    "    with open(file_path, 'r') as file:\n",
    "        csv_data = csv.reader(file)\n",
    "        next(csv_data)  # Skip the header row\n",
    "        insert_query = f\"INSERT INTO {table_name} (post_date, kind, subreddit, title, selftext) VALUES (%s, %s, %s, %s, %s);\"\n",
    "        cursor.executemany(insert_query, csv_data)\n",
    "        conn.commit()\n",
    "\n",
    "# Close the database connection\n",
    "cursor.close()\n",
    "conn.close()\n"
   ]
  }
 ],
 "metadata": {
  "kernelspec": {
   "display_name": "base",
   "language": "python",
   "name": "python3"
  },
  "language_info": {
   "codemirror_mode": {
    "name": "ipython",
    "version": 3
   },
   "file_extension": ".py",
   "mimetype": "text/x-python",
   "name": "python",
   "nbconvert_exporter": "python",
   "pygments_lexer": "ipython3",
   "version": "3.10.9"
  },
  "orig_nbformat": 4
 },
 "nbformat": 4,
 "nbformat_minor": 2
}
